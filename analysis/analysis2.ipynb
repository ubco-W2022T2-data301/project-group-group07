{
 "cells": [
  {
   "cell_type": "markdown",
   "metadata": {},
   "source": [
    "# Kokoro Imafuku"
   ]
  },
  {
   "cell_type": "markdown",
   "metadata": {},
   "source": [
    "# **What are the salary levels of workers in the United States and Canada?**\n",
    "\n",
    "#### Sub Questions:\n",
    "\n",
    "- In comparison to workers in these North American countries, how much do workers in other countries earn?\n",
    "- What are the salary levels of workers in other continents like Asia, Europe, South America, and Africa?\n",
    "\n",
    "\n",
    "In recent years, the impression is that tech industries in North American countries, especially the United States, pay a higher salary to their workers than in other countries. I would like to deconstruct this idea and see if there is an existing relationship between the location of the company and salary in USD. I plan to do this by analyzing the company_location column, and the salary_in_usd column to see the different salary levels in different countries. I would categorize each country, and get the average salary of the workers in that country. I would also graph the different salaries in certain countries, and get both the high and the low-end salaries in that country. Furthermore, I would also analyze the different experience levels, to see if workers of a certain experience level are more likely to work in a certain company_location. "
   ]
  },
  {
   "cell_type": "code",
   "execution_count": 60,
   "metadata": {},
   "outputs": [],
   "source": [
    "#load file\n",
    "import pandas as pd\n",
    "import seaborn as sns\n",
    "import matplotlib.pyplot as plt\n",
    "\n",
    "df = pd.read_csv('../data/raw/ds_salaries.csv', header = 1)\n",
    "df = df.drop(columns='Unnamed: 0')"
   ]
  },
  {
   "cell_type": "markdown",
   "metadata": {},
   "source": [
    "## 1. Summary of dataset"
   ]
  },
  {
   "cell_type": "markdown",
   "metadata": {},
   "source": [
    "Descibe the dataset of all columns"
   ]
  },
  {
   "cell_type": "code",
   "execution_count": 61,
   "metadata": {},
   "outputs": [
    {
     "data": {
      "text/html": [
       "<div>\n",
       "<style scoped>\n",
       "    .dataframe tbody tr th:only-of-type {\n",
       "        vertical-align: middle;\n",
       "    }\n",
       "\n",
       "    .dataframe tbody tr th {\n",
       "        vertical-align: top;\n",
       "    }\n",
       "\n",
       "    .dataframe thead th {\n",
       "        text-align: right;\n",
       "    }\n",
       "</style>\n",
       "<table border=\"1\" class=\"dataframe\">\n",
       "  <thead>\n",
       "    <tr style=\"text-align: right;\">\n",
       "      <th></th>\n",
       "      <th>count</th>\n",
       "      <th>mean</th>\n",
       "      <th>std</th>\n",
       "      <th>min</th>\n",
       "      <th>25%</th>\n",
       "      <th>50%</th>\n",
       "      <th>75%</th>\n",
       "      <th>max</th>\n",
       "    </tr>\n",
       "  </thead>\n",
       "  <tbody>\n",
       "    <tr>\n",
       "      <th>work_year</th>\n",
       "      <td>607.0</td>\n",
       "      <td>2021.405272</td>\n",
       "      <td>6.921330e-01</td>\n",
       "      <td>2020.0</td>\n",
       "      <td>2021.0</td>\n",
       "      <td>2022.0</td>\n",
       "      <td>2022.0</td>\n",
       "      <td>2022.0</td>\n",
       "    </tr>\n",
       "    <tr>\n",
       "      <th>salary</th>\n",
       "      <td>607.0</td>\n",
       "      <td>324000.062603</td>\n",
       "      <td>1.544357e+06</td>\n",
       "      <td>4000.0</td>\n",
       "      <td>70000.0</td>\n",
       "      <td>115000.0</td>\n",
       "      <td>165000.0</td>\n",
       "      <td>30400000.0</td>\n",
       "    </tr>\n",
       "    <tr>\n",
       "      <th>salary_in_usd</th>\n",
       "      <td>607.0</td>\n",
       "      <td>112297.869852</td>\n",
       "      <td>7.095726e+04</td>\n",
       "      <td>2859.0</td>\n",
       "      <td>62726.0</td>\n",
       "      <td>101570.0</td>\n",
       "      <td>150000.0</td>\n",
       "      <td>600000.0</td>\n",
       "    </tr>\n",
       "    <tr>\n",
       "      <th>remote_ratio</th>\n",
       "      <td>607.0</td>\n",
       "      <td>70.922570</td>\n",
       "      <td>4.070913e+01</td>\n",
       "      <td>0.0</td>\n",
       "      <td>50.0</td>\n",
       "      <td>100.0</td>\n",
       "      <td>100.0</td>\n",
       "      <td>100.0</td>\n",
       "    </tr>\n",
       "  </tbody>\n",
       "</table>\n",
       "</div>"
      ],
      "text/plain": [
       "               count           mean           std     min      25%       50%  \\\n",
       "work_year      607.0    2021.405272  6.921330e-01  2020.0   2021.0    2022.0   \n",
       "salary         607.0  324000.062603  1.544357e+06  4000.0  70000.0  115000.0   \n",
       "salary_in_usd  607.0  112297.869852  7.095726e+04  2859.0  62726.0  101570.0   \n",
       "remote_ratio   607.0      70.922570  4.070913e+01     0.0     50.0     100.0   \n",
       "\n",
       "                    75%         max  \n",
       "work_year        2022.0      2022.0  \n",
       "salary         165000.0  30400000.0  \n",
       "salary_in_usd  150000.0    600000.0  \n",
       "remote_ratio      100.0       100.0  "
      ]
     },
     "execution_count": 61,
     "metadata": {},
     "output_type": "execute_result"
    }
   ],
   "source": [
    "df.describe().T"
   ]
  },
  {
   "cell_type": "code",
   "execution_count": 82,
   "metadata": {},
   "outputs": [
    {
     "data": {
      "text/html": [
       "<div>\n",
       "<style scoped>\n",
       "    .dataframe tbody tr th:only-of-type {\n",
       "        vertical-align: middle;\n",
       "    }\n",
       "\n",
       "    .dataframe tbody tr th {\n",
       "        vertical-align: top;\n",
       "    }\n",
       "\n",
       "    .dataframe thead th {\n",
       "        text-align: right;\n",
       "    }\n",
       "</style>\n",
       "<table border=\"1\" class=\"dataframe\">\n",
       "  <thead>\n",
       "    <tr style=\"text-align: right;\">\n",
       "      <th></th>\n",
       "      <th>count</th>\n",
       "      <th>unique</th>\n",
       "      <th>top</th>\n",
       "      <th>freq</th>\n",
       "    </tr>\n",
       "  </thead>\n",
       "  <tbody>\n",
       "    <tr>\n",
       "      <th>experience_level</th>\n",
       "      <td>607</td>\n",
       "      <td>4</td>\n",
       "      <td>SE</td>\n",
       "      <td>280</td>\n",
       "    </tr>\n",
       "    <tr>\n",
       "      <th>employment_type</th>\n",
       "      <td>607</td>\n",
       "      <td>4</td>\n",
       "      <td>FT</td>\n",
       "      <td>588</td>\n",
       "    </tr>\n",
       "    <tr>\n",
       "      <th>job_title</th>\n",
       "      <td>607</td>\n",
       "      <td>50</td>\n",
       "      <td>Data Scientist</td>\n",
       "      <td>143</td>\n",
       "    </tr>\n",
       "    <tr>\n",
       "      <th>salary_currency</th>\n",
       "      <td>607</td>\n",
       "      <td>17</td>\n",
       "      <td>USD</td>\n",
       "      <td>398</td>\n",
       "    </tr>\n",
       "    <tr>\n",
       "      <th>employee_residence</th>\n",
       "      <td>607</td>\n",
       "      <td>57</td>\n",
       "      <td>US</td>\n",
       "      <td>332</td>\n",
       "    </tr>\n",
       "    <tr>\n",
       "      <th>company_location</th>\n",
       "      <td>607</td>\n",
       "      <td>50</td>\n",
       "      <td>US</td>\n",
       "      <td>355</td>\n",
       "    </tr>\n",
       "    <tr>\n",
       "      <th>company_size</th>\n",
       "      <td>607</td>\n",
       "      <td>3</td>\n",
       "      <td>M</td>\n",
       "      <td>326</td>\n",
       "    </tr>\n",
       "  </tbody>\n",
       "</table>\n",
       "</div>"
      ],
      "text/plain": [
       "                   count unique             top freq\n",
       "experience_level     607      4              SE  280\n",
       "employment_type      607      4              FT  588\n",
       "job_title            607     50  Data Scientist  143\n",
       "salary_currency      607     17             USD  398\n",
       "employee_residence   607     57              US  332\n",
       "company_location     607     50              US  355\n",
       "company_size         607      3               M  326"
      ]
     },
     "execution_count": 82,
     "metadata": {},
     "output_type": "execute_result"
    }
   ],
   "source": [
    "df.describe(exclude = 'number').T"
   ]
  },
  {
   "cell_type": "markdown",
   "metadata": {},
   "source": [
    "## 2. Drop unecessary columns from the dataset"
   ]
  },
  {
   "cell_type": "markdown",
   "metadata": {},
   "source": [
    "I will drop the columns: 'work_year', 'employment_type', 'job_title', 'employee_residence', 'remote_ratio', 'company_size', 'experience_level', 'salary_currency', 'salary' as I will not need them answering my research question. I will then assign the modified dataset as dfWorld for understandability. \n"
   ]
  },
  {
   "cell_type": "code",
   "execution_count": 63,
   "metadata": {},
   "outputs": [
    {
     "data": {
      "text/html": [
       "<div>\n",
       "<style scoped>\n",
       "    .dataframe tbody tr th:only-of-type {\n",
       "        vertical-align: middle;\n",
       "    }\n",
       "\n",
       "    .dataframe tbody tr th {\n",
       "        vertical-align: top;\n",
       "    }\n",
       "\n",
       "    .dataframe thead th {\n",
       "        text-align: right;\n",
       "    }\n",
       "</style>\n",
       "<table border=\"1\" class=\"dataframe\">\n",
       "  <thead>\n",
       "    <tr style=\"text-align: right;\">\n",
       "      <th></th>\n",
       "      <th>salary_in_usd</th>\n",
       "      <th>company_location</th>\n",
       "    </tr>\n",
       "  </thead>\n",
       "  <tbody>\n",
       "    <tr>\n",
       "      <th>0</th>\n",
       "      <td>79833</td>\n",
       "      <td>DE</td>\n",
       "    </tr>\n",
       "    <tr>\n",
       "      <th>1</th>\n",
       "      <td>260000</td>\n",
       "      <td>JP</td>\n",
       "    </tr>\n",
       "    <tr>\n",
       "      <th>2</th>\n",
       "      <td>109024</td>\n",
       "      <td>GB</td>\n",
       "    </tr>\n",
       "    <tr>\n",
       "      <th>3</th>\n",
       "      <td>20000</td>\n",
       "      <td>HN</td>\n",
       "    </tr>\n",
       "    <tr>\n",
       "      <th>4</th>\n",
       "      <td>150000</td>\n",
       "      <td>US</td>\n",
       "    </tr>\n",
       "    <tr>\n",
       "      <th>...</th>\n",
       "      <td>...</td>\n",
       "      <td>...</td>\n",
       "    </tr>\n",
       "    <tr>\n",
       "      <th>602</th>\n",
       "      <td>154000</td>\n",
       "      <td>US</td>\n",
       "    </tr>\n",
       "    <tr>\n",
       "      <th>603</th>\n",
       "      <td>126000</td>\n",
       "      <td>US</td>\n",
       "    </tr>\n",
       "    <tr>\n",
       "      <th>604</th>\n",
       "      <td>129000</td>\n",
       "      <td>US</td>\n",
       "    </tr>\n",
       "    <tr>\n",
       "      <th>605</th>\n",
       "      <td>150000</td>\n",
       "      <td>US</td>\n",
       "    </tr>\n",
       "    <tr>\n",
       "      <th>606</th>\n",
       "      <td>200000</td>\n",
       "      <td>US</td>\n",
       "    </tr>\n",
       "  </tbody>\n",
       "</table>\n",
       "<p>607 rows × 2 columns</p>\n",
       "</div>"
      ],
      "text/plain": [
       "     salary_in_usd company_location\n",
       "0            79833               DE\n",
       "1           260000               JP\n",
       "2           109024               GB\n",
       "3            20000               HN\n",
       "4           150000               US\n",
       "..             ...              ...\n",
       "602         154000               US\n",
       "603         126000               US\n",
       "604         129000               US\n",
       "605         150000               US\n",
       "606         200000               US\n",
       "\n",
       "[607 rows x 2 columns]"
      ]
     },
     "execution_count": 63,
     "metadata": {},
     "output_type": "execute_result"
    }
   ],
   "source": [
    "dfWorld = df.drop(columns=['work_year', 'employment_type', 'job_title', 'employee_residence', 'remote_ratio', 'company_size', 'experience_level', 'salary_currency', 'salary'])\n",
    "dfWorld"
   ]
  },
  {
   "cell_type": "markdown",
   "metadata": {},
   "source": [
    "## 3. Create dataset for each continent"
   ]
  },
  {
   "cell_type": "markdown",
   "metadata": {},
   "source": [
    "For simplicity, I have used five continents to categorize all the countries listed on the original dataset. For example, I have categorized Australia as Asia, and New Zealand as Asia.\n",
    "I have also used the head() method to each dataframe for formatting reasons."
   ]
  },
  {
   "cell_type": "code",
   "execution_count": 97,
   "metadata": {},
   "outputs": [
    {
     "data": {
      "text/html": [
       "<div>\n",
       "<style scoped>\n",
       "    .dataframe tbody tr th:only-of-type {\n",
       "        vertical-align: middle;\n",
       "    }\n",
       "\n",
       "    .dataframe tbody tr th {\n",
       "        vertical-align: top;\n",
       "    }\n",
       "\n",
       "    .dataframe thead th {\n",
       "        text-align: right;\n",
       "    }\n",
       "</style>\n",
       "<table border=\"1\" class=\"dataframe\">\n",
       "  <thead>\n",
       "    <tr style=\"text-align: right;\">\n",
       "      <th></th>\n",
       "      <th>salary_in_usd</th>\n",
       "      <th>company_location</th>\n",
       "    </tr>\n",
       "  </thead>\n",
       "  <tbody>\n",
       "    <tr>\n",
       "      <th>4</th>\n",
       "      <td>150000</td>\n",
       "      <td>US</td>\n",
       "    </tr>\n",
       "    <tr>\n",
       "      <th>5</th>\n",
       "      <td>72000</td>\n",
       "      <td>US</td>\n",
       "    </tr>\n",
       "    <tr>\n",
       "      <th>6</th>\n",
       "      <td>190000</td>\n",
       "      <td>US</td>\n",
       "    </tr>\n",
       "    <tr>\n",
       "      <th>8</th>\n",
       "      <td>135000</td>\n",
       "      <td>US</td>\n",
       "    </tr>\n",
       "    <tr>\n",
       "      <th>13</th>\n",
       "      <td>87000</td>\n",
       "      <td>US</td>\n",
       "    </tr>\n",
       "  </tbody>\n",
       "</table>\n",
       "</div>"
      ],
      "text/plain": [
       "    salary_in_usd company_location\n",
       "4          150000               US\n",
       "5           72000               US\n",
       "6          190000               US\n",
       "8          135000               US\n",
       "13          87000               US"
      ]
     },
     "execution_count": 97,
     "metadata": {},
     "output_type": "execute_result"
    }
   ],
   "source": [
    "dfNorthAmerica = dfWorld.loc[(df[\"company_location\"] == \"US\") | (df[\"company_location\"] == \"CA\")]\n",
    "\n",
    "dfAsia = dfWorld.loc[(df['company_location'] == \"JP\") | (df[\"company_location\"] == \"NZ\") | (df[\"company_location\"] == \"IN\") | (df[\"company_location\"] == \"PK\")  | (df[\"company_location\"] == \"CN\") | (df[\"company_location\"] == \"AE\") | (df[\"company_location\"] == \"SG\") | (df[\"company_location\"] == \"IQ\") | (df[\"company_location\"] == \"IL\") | (df[\"company_location\"] == \"RU\") | (df[\"company_location\"] == \"IR\") | (df[\"company_location\"] == \"VN\") | (df[\"company_location\"] == \"AS\") | (df[\"company_location\"] == \"MY\") | (df[\"company_location\"] == \"AU\")]\n",
    "\n",
    "dfEurope = dfWorld.loc[(df['company_location'] == \"DE\") | (df[\"company_location\"] == \"GB\") | (df[\"company_location\"] == \"HU\") | (df[\"company_location\"] == \"FR\") | (df[\"company_location\"] == \"GR\") | (df[\"company_location\"] == \"NL\")  | (df[\"company_location\"] == \"AT\") | (df[\"company_location\"] == \"DK\") | (df[\"company_location\"] == \"IT\") | (df[\"company_location\"] == \"HR\") | (df[\"company_location\"] == \"LU\") | (df[\"company_location\"] == \"PL\") | (df[\"company_location\"] == \"RO\") | (df[\"company_location\"] == \"BE\") | (df[\"company_location\"] == \"UA\") | (df[\"company_location\"] == \"MT\") | (df[\"company_location\"] == \"MD\") | (df[\"company_location\"] == \"SI\") | (df[\"company_location\"] == \"CH\") | (df[\"company_location\"] == \"TR\") | (df[\"company_location\"] == \"CZ\") | (df[\"company_location\"] == \"EE\") | (df[\"company_location\"] == \"IE\")]\n",
    "\n",
    "dfSouthAmerica = dfWorld.loc[(df['company_location'] == \"HN\") | (df[\"company_location\"] == \"MX\") | (df[\"company_location\"] == \"ES\") | (df[\"company_location\"] == \"PT\") | (df[\"company_location\"] == \"BR\") | (df[\"company_location\"] == \"CL\") | (df[\"company_location\"] == \"CO\")]\n",
    "\n",
    "dfAfrica = dfWorld.loc[(df['company_location'] == \"NG\") | (df[\"company_location\"] == \"KE\") | (df[\"company_location\"] == \"DZ\")]\n",
    "\n",
    "dfNorthAmerica.head()\n"
   ]
  },
  {
   "cell_type": "code",
   "execution_count": 98,
   "metadata": {},
   "outputs": [
    {
     "data": {
      "text/html": [
       "<div>\n",
       "<style scoped>\n",
       "    .dataframe tbody tr th:only-of-type {\n",
       "        vertical-align: middle;\n",
       "    }\n",
       "\n",
       "    .dataframe tbody tr th {\n",
       "        vertical-align: top;\n",
       "    }\n",
       "\n",
       "    .dataframe thead th {\n",
       "        text-align: right;\n",
       "    }\n",
       "</style>\n",
       "<table border=\"1\" class=\"dataframe\">\n",
       "  <thead>\n",
       "    <tr style=\"text-align: right;\">\n",
       "      <th></th>\n",
       "      <th>salary_in_usd</th>\n",
       "      <th>company_location</th>\n",
       "    </tr>\n",
       "  </thead>\n",
       "  <tbody>\n",
       "    <tr>\n",
       "      <th>1</th>\n",
       "      <td>260000</td>\n",
       "      <td>JP</td>\n",
       "    </tr>\n",
       "    <tr>\n",
       "      <th>9</th>\n",
       "      <td>125000</td>\n",
       "      <td>NZ</td>\n",
       "    </tr>\n",
       "    <tr>\n",
       "      <th>11</th>\n",
       "      <td>40481</td>\n",
       "      <td>IN</td>\n",
       "    </tr>\n",
       "    <tr>\n",
       "      <th>15</th>\n",
       "      <td>8000</td>\n",
       "      <td>PK</td>\n",
       "    </tr>\n",
       "    <tr>\n",
       "      <th>16</th>\n",
       "      <td>41689</td>\n",
       "      <td>JP</td>\n",
       "    </tr>\n",
       "  </tbody>\n",
       "</table>\n",
       "</div>"
      ],
      "text/plain": [
       "    salary_in_usd company_location\n",
       "1          260000               JP\n",
       "9          125000               NZ\n",
       "11          40481               IN\n",
       "15           8000               PK\n",
       "16          41689               JP"
      ]
     },
     "execution_count": 98,
     "metadata": {},
     "output_type": "execute_result"
    }
   ],
   "source": [
    "dfAsia.head()"
   ]
  },
  {
   "cell_type": "code",
   "execution_count": 99,
   "metadata": {},
   "outputs": [
    {
     "data": {
      "text/html": [
       "<div>\n",
       "<style scoped>\n",
       "    .dataframe tbody tr th:only-of-type {\n",
       "        vertical-align: middle;\n",
       "    }\n",
       "\n",
       "    .dataframe tbody tr th {\n",
       "        vertical-align: top;\n",
       "    }\n",
       "\n",
       "    .dataframe thead th {\n",
       "        text-align: right;\n",
       "    }\n",
       "</style>\n",
       "<table border=\"1\" class=\"dataframe\">\n",
       "  <thead>\n",
       "    <tr style=\"text-align: right;\">\n",
       "      <th></th>\n",
       "      <th>salary_in_usd</th>\n",
       "      <th>company_location</th>\n",
       "    </tr>\n",
       "  </thead>\n",
       "  <tbody>\n",
       "    <tr>\n",
       "      <th>0</th>\n",
       "      <td>79833</td>\n",
       "      <td>DE</td>\n",
       "    </tr>\n",
       "    <tr>\n",
       "      <th>2</th>\n",
       "      <td>109024</td>\n",
       "      <td>GB</td>\n",
       "    </tr>\n",
       "    <tr>\n",
       "      <th>7</th>\n",
       "      <td>35735</td>\n",
       "      <td>HU</td>\n",
       "    </tr>\n",
       "    <tr>\n",
       "      <th>10</th>\n",
       "      <td>51321</td>\n",
       "      <td>FR</td>\n",
       "    </tr>\n",
       "    <tr>\n",
       "      <th>12</th>\n",
       "      <td>39916</td>\n",
       "      <td>FR</td>\n",
       "    </tr>\n",
       "  </tbody>\n",
       "</table>\n",
       "</div>"
      ],
      "text/plain": [
       "    salary_in_usd company_location\n",
       "0           79833               DE\n",
       "2          109024               GB\n",
       "7           35735               HU\n",
       "10          51321               FR\n",
       "12          39916               FR"
      ]
     },
     "execution_count": 99,
     "metadata": {},
     "output_type": "execute_result"
    }
   ],
   "source": [
    "dfEurope.head()"
   ]
  },
  {
   "cell_type": "code",
   "execution_count": 100,
   "metadata": {},
   "outputs": [
    {
     "data": {
      "text/html": [
       "<div>\n",
       "<style scoped>\n",
       "    .dataframe tbody tr th:only-of-type {\n",
       "        vertical-align: middle;\n",
       "    }\n",
       "\n",
       "    .dataframe tbody tr th {\n",
       "        vertical-align: top;\n",
       "    }\n",
       "\n",
       "    .dataframe thead th {\n",
       "        text-align: right;\n",
       "    }\n",
       "</style>\n",
       "<table border=\"1\" class=\"dataframe\">\n",
       "  <thead>\n",
       "    <tr style=\"text-align: right;\">\n",
       "      <th></th>\n",
       "      <th>salary_in_usd</th>\n",
       "      <th>company_location</th>\n",
       "    </tr>\n",
       "  </thead>\n",
       "  <tbody>\n",
       "    <tr>\n",
       "      <th>3</th>\n",
       "      <td>20000</td>\n",
       "      <td>HN</td>\n",
       "    </tr>\n",
       "    <tr>\n",
       "      <th>27</th>\n",
       "      <td>33511</td>\n",
       "      <td>MX</td>\n",
       "    </tr>\n",
       "    <tr>\n",
       "      <th>41</th>\n",
       "      <td>79833</td>\n",
       "      <td>ES</td>\n",
       "    </tr>\n",
       "    <tr>\n",
       "      <th>42</th>\n",
       "      <td>50180</td>\n",
       "      <td>PT</td>\n",
       "    </tr>\n",
       "    <tr>\n",
       "      <th>56</th>\n",
       "      <td>38776</td>\n",
       "      <td>ES</td>\n",
       "    </tr>\n",
       "  </tbody>\n",
       "</table>\n",
       "</div>"
      ],
      "text/plain": [
       "    salary_in_usd company_location\n",
       "3           20000               HN\n",
       "27          33511               MX\n",
       "41          79833               ES\n",
       "42          50180               PT\n",
       "56          38776               ES"
      ]
     },
     "execution_count": 100,
     "metadata": {},
     "output_type": "execute_result"
    }
   ],
   "source": [
    "dfSouthAmerica.head()"
   ]
  },
  {
   "cell_type": "code",
   "execution_count": 101,
   "metadata": {},
   "outputs": [
    {
     "data": {
      "text/html": [
       "<div>\n",
       "<style scoped>\n",
       "    .dataframe tbody tr th:only-of-type {\n",
       "        vertical-align: middle;\n",
       "    }\n",
       "\n",
       "    .dataframe tbody tr th {\n",
       "        vertical-align: top;\n",
       "    }\n",
       "\n",
       "    .dataframe thead th {\n",
       "        text-align: right;\n",
       "    }\n",
       "</style>\n",
       "<table border=\"1\" class=\"dataframe\">\n",
       "  <thead>\n",
       "    <tr style=\"text-align: right;\">\n",
       "      <th></th>\n",
       "      <th>salary_in_usd</th>\n",
       "      <th>company_location</th>\n",
       "    </tr>\n",
       "  </thead>\n",
       "  <tbody>\n",
       "    <tr>\n",
       "      <th>38</th>\n",
       "      <td>10000</td>\n",
       "      <td>NG</td>\n",
       "    </tr>\n",
       "    <tr>\n",
       "      <th>116</th>\n",
       "      <td>50000</td>\n",
       "      <td>NG</td>\n",
       "    </tr>\n",
       "    <tr>\n",
       "      <th>196</th>\n",
       "      <td>9272</td>\n",
       "      <td>KE</td>\n",
       "    </tr>\n",
       "    <tr>\n",
       "      <th>487</th>\n",
       "      <td>100000</td>\n",
       "      <td>DZ</td>\n",
       "    </tr>\n",
       "  </tbody>\n",
       "</table>\n",
       "</div>"
      ],
      "text/plain": [
       "     salary_in_usd company_location\n",
       "38           10000               NG\n",
       "116          50000               NG\n",
       "196           9272               KE\n",
       "487         100000               DZ"
      ]
     },
     "execution_count": 101,
     "metadata": {},
     "output_type": "execute_result"
    }
   ],
   "source": [
    "dfAfrica"
   ]
  },
  {
   "cell_type": "markdown",
   "metadata": {},
   "source": [
    "## 4. Plot each dataframe"
   ]
  },
  {
   "cell_type": "markdown",
   "metadata": {},
   "source": [
    "#### RQ1: What are the salary levels of workers in the United States and Canada? "
   ]
  },
  {
   "cell_type": "code",
   "execution_count": 114,
   "metadata": {},
   "outputs": [
    {
     "data": {
      "image/png": "[encoded data removed]",
      "text/plain": [
       "<Figure size 500x400 with 1 Axes>"
      ]
     },
     "metadata": {},
     "output_type": "display_data"
    }
   ],
   "source": [
    "plt.figure(figsize=(5,4))\n",
    "sns.barplot(data=dfNorthAmerica, x=\"company_location\", y=\"salary_in_usd\", order=dfNorthAmerica.sort_values('salary_in_usd', ascending = True).company_location.unique())\n",
    "plt.show()"
   ]
  },
  {
   "cell_type": "markdown",
   "metadata": {},
   "source": [
    "#### Sub Question 2: What are the salary levels of workers in Asia? "
   ]
  },
  {
   "cell_type": "code",
   "execution_count": 106,
   "metadata": {},
   "outputs": [
    {
     "data": {
      "image/png": "[encoded data removed]",
      "text/plain": [
       "<Figure size 500x400 with 1 Axes>"
      ]
     },
     "metadata": {},
     "output_type": "display_data"
    }
   ],
   "source": [
    "plt.figure(figsize=(5,4))\n",
    "sns.barplot(data=dfAsia, x=\"company_location\", y=\"salary_in_usd\")\n",
    "plt.show()"
   ]
  },
  {
   "cell_type": "markdown",
   "metadata": {},
   "source": [
    "#### Sub Question 3: What are the salary levels of workers in Europe? "
   ]
  },
  {
   "cell_type": "code",
   "execution_count": 107,
   "metadata": {},
   "outputs": [
    {
     "data": {
      "image/png": "[encoded data removed]",
      "text/plain": [
       "<Figure size 650x400 with 1 Axes>"
      ]
     },
     "metadata": {},
     "output_type": "display_data"
    }
   ],
   "source": [
    "plt.figure(figsize=(6.5,4))\n",
    "sns.barplot(data=dfEurope, x=\"company_location\", y=\"salary_in_usd\")\n",
    "plt.show()"
   ]
  },
  {
   "cell_type": "markdown",
   "metadata": {},
   "source": [
    "#### Sub Question 4: What are the salary levels of workers in South America? "
   ]
  },
  {
   "cell_type": "code",
   "execution_count": 108,
   "metadata": {},
   "outputs": [
    {
     "data": {
      "image/png": "[encoded data removed]",
      "text/plain": [
       "<Figure size 500x400 with 1 Axes>"
      ]
     },
     "metadata": {},
     "output_type": "display_data"
    }
   ],
   "source": [
    "plt.figure(figsize=(5,4))\n",
    "sns.barplot(data=dfSouthAmerica, x=\"company_location\", y=\"salary_in_usd\")\n",
    "plt.show()"
   ]
  },
  {
   "cell_type": "markdown",
   "metadata": {},
   "source": [
    "#### Sub Question 5: What are the salary levels of workers in Africa? "
   ]
  },
  {
   "cell_type": "code",
   "execution_count": 80,
   "metadata": {},
   "outputs": [
    {
     "data": {
      "image/png": "[encoded data removed]",
      "text/plain": [
       "<Figure size 500x400 with 1 Axes>"
      ]
     },
     "metadata": {},
     "output_type": "display_data"
    }
   ],
   "source": [
    "plt.figure(figsize=(5,4))\n",
    "sns.barplot(data=dfAfrica, x=\"company_location\", y=\"salary_in_usd\")\n",
    "plt.show()"
   ]
  },
  {
   "cell_type": "markdown",
   "metadata": {},
   "source": [
    "#### barplot of different salary levels in all countries"
   ]
  },
  {
   "cell_type": "code",
   "execution_count": 73,
   "metadata": {},
   "outputs": [
    {
     "data": {
      "image/png": "[encoded data removed]",
      "text/plain": [
       "<Figure size 1300x400 with 1 Axes>"
      ]
     },
     "metadata": {},
     "output_type": "display_data"
    }
   ],
   "source": [
    "plt.figure(figsize=(13,4))\n",
    "sns.barplot(data=dfWorld, x=\"company_location\", y=\"salary_in_usd\")\n",
    "plt.show()"
   ]
  },
  {
   "cell_type": "code",
   "execution_count": null,
   "metadata": {},
   "outputs": [],
   "source": []
  }
 ],
 "metadata": {
  "kernelspec": {
   "display_name": "Python 3 (ipykernel)",
   "language": "python",
   "name": "python3"
  },
  "language_info": {
   "codemirror_mode": {
    "name": "ipython",
    "version": 3
   },
   "file_extension": ".py",
   "mimetype": "text/x-python",
   "name": "python",
   "nbconvert_exporter": "python",
   "pygments_lexer": "ipython3",
   "version": "3.10.8"
  }
 },
 "nbformat": 4,
 "nbformat_minor": 4
}
